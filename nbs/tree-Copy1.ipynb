{
 "cells": [
  {
   "cell_type": "markdown",
   "metadata": {
    "collapsed": true,
    "pycharm": {
     "name": "#%% md\n"
    }
   },
   "source": [
    "## Predicting Job Satisfaction From Developer data\n"
   ]
  },
  {
   "cell_type": "code",
   "execution_count": 108,
   "metadata": {
    "pycharm": {
     "is_executing": true,
     "metadata": false,
     "name": "#%%\n"
    },
    "scrolled": true
   },
   "outputs": [],
   "source": [
    "import pandas as pd\n",
    "dataset = pd.read_csv('../survey_results_public.csv')\n",
    "# dataset = dataset[dataset['CareerSatisfaction'].notnull()]"
   ]
  },
  {
   "cell_type": "code",
   "execution_count": 109,
   "metadata": {
    "pycharm": {
     "metadata": false,
     "name": "#%%\n"
    }
   },
   "outputs": [
    {
     "name": "stdout",
     "output_type": "stream",
     "text": [
      "(6, 3)\n",
      "(6, 312)\n"
     ]
    }
   ],
   "source": [
    "smol_data = dataset.dropna()\n",
    "y = smol_data['CareerSatisfaction']\n",
    "X = smol_data.drop('CareerSatisfaction', axis=1)\n",
    "\n",
    "y = pd.get_dummies(y)\n",
    "X = pd.get_dummies(X)\n",
    "print(y.shape)\n",
    "print(X.shape)"
   ]
  },
  {
   "cell_type": "code",
   "execution_count": 110,
   "metadata": {},
   "outputs": [],
   "source": [
    "import pandas as pd\n",
    "from sklearn.ensemble import RandomForestClassifier\n",
    "from sklearn.feature_selection import SelectFromModel\n",
    "from sklearn.model_selection import train_test_split"
   ]
  },
  {
   "cell_type": "code",
   "execution_count": 111,
   "metadata": {},
   "outputs": [],
   "source": [
    " X_train, X_test, y_train, y_test = train_test_split(X, y, test_size=0.3)"
   ]
  },
  {
   "cell_type": "code",
   "execution_count": 112,
   "metadata": {},
   "outputs": [
    {
     "name": "stdout",
     "output_type": "stream",
     "text": [
      "       Respondent  AssessJob1  AssessJob2  AssessJob3  AssessJob4  AssessJob5  \\\n",
      "14793       21037         4.0         8.0         5.0         6.0         7.0   \n",
      "36346       51637         7.0         8.0         4.0         2.0         1.0   \n",
      "36588       51995         5.0        10.0         2.0         1.0         6.0   \n",
      "44987       63841         6.0         3.0        10.0         8.0         1.0   \n",
      "45199       64129         7.0        10.0         6.0         4.0         1.0   \n",
      "\n",
      "       AssessJob6  AssessJob7  AssessJob8  AssessJob9  ...  \\\n",
      "14793         3.0        10.0         2.0         9.0  ...   \n",
      "36346         3.0         6.0         9.0        10.0  ...   \n",
      "36588         3.0         4.0         7.0         9.0  ...   \n",
      "44987         5.0         7.0         4.0         9.0  ...   \n",
      "45199         3.0         5.0         2.0         8.0  ...   \n",
      "\n",
      "       RaceEthnicity_White or of European descent  Age_25 - 34 years old  \\\n",
      "14793                                           1                      1   \n",
      "36346                                           1                      1   \n",
      "36588                                           1                      0   \n",
      "44987                                           1                      0   \n",
      "45199                                           1                      1   \n",
      "\n",
      "       Age_35 - 44 years old  Dependents_No  Dependents_Yes  MilitaryUS_No  \\\n",
      "14793                      0              1               0              1   \n",
      "36346                      0              0               1              1   \n",
      "36588                      1              1               0              1   \n",
      "44987                      1              1               0              1   \n",
      "45199                      0              1               0              1   \n",
      "\n",
      "       SurveyTooLong_The survey was an appropriate length  \\\n",
      "14793                                                  1    \n",
      "36346                                                  1    \n",
      "36588                                                  0    \n",
      "44987                                                  1    \n",
      "45199                                                  1    \n",
      "\n",
      "       SurveyTooLong_The survey was too long  SurveyEasy_Somewhat easy  \\\n",
      "14793                                      0                         0   \n",
      "36346                                      0                         1   \n",
      "36588                                      1                         0   \n",
      "44987                                      0                         0   \n",
      "45199                                      0                         0   \n",
      "\n",
      "       SurveyEasy_Very easy  \n",
      "14793                     1  \n",
      "36346                     0  \n",
      "36588                     1  \n",
      "44987                     1  \n",
      "45199                     1  \n",
      "\n",
      "[5 rows x 312 columns]\n"
     ]
    }
   ],
   "source": [
    "# print(X.sum(axis=1))\n",
    "# print(X[X.sum(axis=1) == 1])\n",
    "print(X.head())"
   ]
  },
  {
   "cell_type": "code",
   "execution_count": 113,
   "metadata": {},
   "outputs": [
    {
     "data": {
      "text/plain": [
       "SelectFromModel(estimator=RandomForestClassifier(bootstrap=True, class_weight=None, criterion='gini',\n",
       "            max_depth=None, max_features='auto', max_leaf_nodes=None,\n",
       "            min_impurity_decrease=0.0, min_impurity_split=None,\n",
       "            min_samples_leaf=1, min_samples_split=2,\n",
       "            min_weight_fraction_leaf=0.0, n_estimators=100, n_jobs=None,\n",
       "            oob_score=False, random_state=None, verbose=0,\n",
       "            warm_start=False),\n",
       "        max_features=None, norm_order=1, prefit=False, threshold=None)"
      ]
     },
     "execution_count": 113,
     "metadata": {},
     "output_type": "execute_result"
    }
   ],
   "source": [
    "sel = SelectFromModel(RandomForestClassifier(n_estimators=100))\n",
    "sel.fit(X_train, y_train)"
   ]
  },
  {
   "cell_type": "code",
   "execution_count": null,
   "metadata": {},
   "outputs": [],
   "source": []
  }
 ],
 "metadata": {
  "kernelspec": {
   "display_name": "Python 3",
   "language": "python",
   "name": "python3"
  },
  "language_info": {
   "codemirror_mode": {
    "name": "ipython",
    "version": 3
   },
   "file_extension": ".py",
   "mimetype": "text/x-python",
   "name": "python",
   "nbconvert_exporter": "python",
   "pygments_lexer": "ipython3",
   "version": "3.7.3"
  }
 },
 "nbformat": 4,
 "nbformat_minor": 1
}
