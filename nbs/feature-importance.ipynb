{
 "cells": [
  {
   "cell_type": "markdown",
   "metadata": {},
   "source": [
    "# Determining Feature Importance"
   ]
  },
  {
   "cell_type": "markdown",
   "metadata": {},
   "source": [
    "### Import relevant packages and read in the dataset"
   ]
  },
  {
   "cell_type": "code",
   "execution_count": 13,
   "metadata": {},
   "outputs": [],
   "source": [
    "import numpy as np\n",
    "import pandas as pd\n",
    "import matplotlib.pyplot as plt\n",
    "\n",
    "from sklearn.ensemble import ExtraTreesClassifier\n",
    "\n",
    "# Read in the data\n",
    "df = pd.read_csv('../clean_dataset.csv')\n",
    "\n",
    "y = df.iloc[:,0:7]\n",
    "X = df.iloc[:,7:]"
   ]
  },
  {
   "cell_type": "markdown",
   "metadata": {},
   "source": [
    "### Fit a forest and determine feature importances"
   ]
  },
  {
   "cell_type": "code",
   "execution_count": 15,
   "metadata": {},
   "outputs": [],
   "source": [
    "# Build and fit a random forest classifier\n",
    "forest = ExtraTreesClassifier(n_estimators=100, random_state=12)\n",
    "forest.fit(X, y)\n",
    "\n",
    "# Get feature importances from the tree classifier\n",
    "importances = forest.feature_importances_\n",
    "\n",
    "# Determine error bars for importances\n",
    "std = np.std([tree.feature_importances_ for tree in forest.estimators_], axis=0)\n",
    "indices = np.argsort(importances)[::-1]"
   ]
  },
  {
   "cell_type": "markdown",
   "metadata": {},
   "source": [
    "### Print out results"
   ]
  },
  {
   "cell_type": "code",
   "execution_count": 18,
   "metadata": {},
   "outputs": [
    {
     "name": "stdout",
     "output_type": "stream",
     "text": [
      "Feature ranking:\n",
      "Feature 5: Slightly dissatisfied (0.082524)\n",
      "Feature 1: Extremely satisfied (0.075929)\n",
      "Feature 0: Extremely dissatisfied (0.070871)\n",
      "Feature 3: Moderately satisfied (0.070357)\n",
      "Feature 6: Slightly satisfied (0.063486)\n",
      "Feature 8: Angular (0.062008)\n",
      "Feature 2: Moderately dissatisfied (0.055843)\n",
      "Feature 9: Cordova (0.047023)\n",
      "Feature 11: Hadoop (0.045898)\n",
      "Feature 4: Neither satisfied nor dissatisfied (0.040268)\n",
      "Feature 7: .NET Core (0.035251)\n",
      "Feature 29: StackOverflowHasAccount_No (0.029365)\n",
      "Feature 23: NumberMonitors_1 (0.025637)\n",
      "Feature 32: HoursComputer_5 - 8 hours (0.025252)\n",
      "Feature 25: NumberMonitors_3 (0.025065)\n",
      "Feature 26: NumberMonitors_4 (0.024727)\n",
      "Feature 31: HoursComputer_1 - 4 hours (0.024266)\n",
      "Feature 22: OperatingSystem_Windows (0.022403)\n",
      "Feature 30: StackOverflowHasAccount_Yes (0.020820)\n",
      "Feature 10: Django (0.017658)\n",
      "Feature 21: OperatingSystem_MacOS (0.016986)\n",
      "Feature 28: StackOverflowHasAccount_I'm not sure / I can't remember (0.015461)\n",
      "Feature 13: React (0.015308)\n",
      "Feature 15: Spring (0.014999)\n",
      "Feature 17: Torch/PyTorch (0.011740)\n",
      "Feature 16: TensorFlow (0.010867)\n",
      "Feature 18: Xamarin (0.009797)\n",
      "Feature 14: Spark (0.009622)\n",
      "Feature 33: HoursComputer_9 - 12 hours (0.008012)\n",
      "Feature 24: NumberMonitors_2 (0.007946)\n",
      "Feature 19: OperatingSystem_BSD/Unix (0.005694)\n",
      "Feature 20: OperatingSystem_Linux-based (0.004775)\n",
      "Feature 27: NumberMonitors_More than 4 (0.002088)\n",
      "Feature 12: Node.js (0.002053)\n"
     ]
    },
    {
     "data": {
      "image/png": "[encoded data removed]",
      "text/plain": [
       "<Figure size 432x288 with 1 Axes>"
      ]
     },
     "metadata": {
      "needs_background": "light"
     },
     "output_type": "display_data"
    }
   ],
   "source": [
    "# Print the feature ranking\n",
    "print(\"Feature ranking:\")\n",
    "\n",
    "for f in range(X.shape[1]):\n",
    "    print(\"Feature %d: %s (%f)\" % (indices[f], df.columns[indices[f]], importances[indices[f]]))\n",
    "\n",
    "# Plot the feature importances of the forest\n",
    "plt.figure()\n",
    "plt.title(\"Feature importances\")\n",
    "plt.bar(range(X.shape[1]), importances[indices],\n",
    "       color=\"r\", yerr=std[indices], align=\"center\")\n",
    "plt.xticks(range(X.shape[1]), indices)\n",
    "plt.xlim([-1, X.shape[1]])\n",
    "plt.show()"
   ]
  }
 ],
 "metadata": {
  "kernelspec": {
   "display_name": "Python 3",
   "language": "python",
   "name": "python3"
  },
  "language_info": {
   "codemirror_mode": {
    "name": "ipython",
    "version": 3
   },
   "file_extension": ".py",
   "mimetype": "text/x-python",
   "name": "python",
   "nbconvert_exporter": "python",
   "pygments_lexer": "ipython3",
   "version": "3.7.1"
  }
 },
 "nbformat": 4,
 "nbformat_minor": 2
}
