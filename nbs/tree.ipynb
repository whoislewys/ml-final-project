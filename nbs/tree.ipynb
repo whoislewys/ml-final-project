{
 "cells": [
  {
   "cell_type": "markdown",
   "metadata": {
    "collapsed": true,
    "pycharm": {
     "name": "#%% md\n"
    }
   },
   "source": [
    "## Predicting Job Satisfaction From Developer data\n"
   ]
  },
  {
   "cell_type": "code",
   "execution_count": 47,
   "metadata": {
    "pycharm": {
     "is_executing": true,
     "metadata": false,
     "name": "#%%\n"
    }
   },
   "outputs": [
    {
     "name": "stdout",
     "output_type": "stream",
     "text": [
      "98855\n",
      "76504\n"
     ]
    },
    {
     "name": "stderr",
     "output_type": "stream",
     "text": [
      "/home/elliot/miniconda3/lib/python3.6/site-packages/IPython/core/interactiveshell.py:2698: DtypeWarning: Columns (8,12,13,14,15,16,50,51,52,53,55,56,57,58,59,60,61,62,63,64,65,66,67,68,69,70,71,72,73,74,75,76,77,78,79,80,81,82,83,84,85,93,94,95,96,97,98,99,100,101,102,103,104,105,106,107,108,109,110,111,112,113,114,115,116,117,118,119,120,121,122,123,124,125,126,127,128) have mixed types. Specify dtype option on import or set low_memory=False.\n",
      "  interactivity=interactivity, compiler=compiler, result=result)\n"
     ]
    },
    {
     "data": {
      "text/plain": [
       "129"
      ]
     },
     "execution_count": 47,
     "metadata": {},
     "output_type": "execute_result"
    }
   ],
   "source": [
    "import pandas as pd\n",
    "dataset = pd.read_csv('../survey_results_public.csv')\n",
    "print(dataset.shape[0])\n",
    "dataset = dataset[dataset['CareerSatisfaction'].notnull()]\n",
    "print(dataset.shape[0])\n",
    "# dataset = dataset[pd.nonna(dataset['CareerSatisfaction'])]"
   ]
  },
  {
   "cell_type": "code",
   "execution_count": 32,
   "metadata": {
    "pycharm": {
     "metadata": false,
     "name": "#%%\n"
    }
   },
   "outputs": [],
   "source": [
    "y = dataset['CareerSatisfaction']"
   ]
  },
  {
   "cell_type": "code",
   "execution_count": 78,
   "metadata": {},
   "outputs": [],
   "source": [
    "# Filter out columns with less than 60% non-NaN values\n",
    "cols_sorted_by_missing = dataset.count().sort_values() / dataset.shape[0]\n",
    "good_cols_mask = cols_sorted_by_missing >= 0.6\n",
    "good_cols = cols_sorted_by_missing[good_cols_mask].index\n",
    "X = dataset[good_cols]"
   ]
  },
  {
   "cell_type": "code",
   "execution_count": 79,
   "metadata": {},
   "outputs": [
    {
     "data": {
      "text/plain": [
       "Index(['FrameworkWorkedWith', 'JobContactPriorities5', 'JobContactPriorities4',\n",
       "       'JobContactPriorities3', 'JobContactPriorities2',\n",
       "       'JobContactPriorities1', 'ConvertedSalary', 'AdBlockerDisable',\n",
       "       'FrameworkDesireNextYear', 'Salary',\n",
       "       ...\n",
       "       'Employment', 'DevType', 'JobSearchStatus', 'YearsCoding',\n",
       "       'YearsCodingProf', 'Country', 'OpenSource', 'Hobby',\n",
       "       'CareerSatisfaction', 'Respondent'],\n",
       "      dtype='object', length=116)"
      ]
     },
     "execution_count": 79,
     "metadata": {},
     "output_type": "execute_result"
    }
   ],
   "source": [
    "X.columns"
   ]
  },
  {
   "cell_type": "code",
   "execution_count": null,
   "metadata": {
    "collapsed": true
   },
   "outputs": [],
   "source": []
  }
 ],
 "metadata": {
  "kernelspec": {
   "display_name": "ml-final-project",
   "language": "python",
   "name": "ml-final-project"
  },
  "language_info": {
   "codemirror_mode": {
    "name": "ipython",
    "version": 3
   },
   "file_extension": ".py",
   "mimetype": "text/x-python",
   "name": "python",
   "nbconvert_exporter": "python",
   "pygments_lexer": "ipython3",
   "version": "3.6.0"
  }
 },
 "nbformat": 4,
 "nbformat_minor": 1
}
