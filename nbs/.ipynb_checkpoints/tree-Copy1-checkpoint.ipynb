{
 "cells": [
  {
   "cell_type": "markdown",
   "metadata": {
    "collapsed": true,
    "pycharm": {
     "name": "#%% md\n"
    }
   },
   "source": [
    "## Predicting Job Satisfaction From Developer data\n"
   ]
  },
  {
   "cell_type": "code",
   "execution_count": 105,
   "metadata": {
    "pycharm": {
     "is_executing": true,
     "metadata": false,
     "name": "#%%\n"
    },
    "scrolled": true
   },
   "outputs": [],
   "source": [
    "import pandas as pd\n",
    "dataset = pd.read_csv('../survey_results_public.csv')\n",
    "# dataset = dataset[dataset['CareerSatisfaction'].notnull()]"
   ]
  },
  {
   "cell_type": "code",
   "execution_count": 107,
   "metadata": {
    "pycharm": {
     "metadata": false,
     "name": "#%%\n"
    }
   },
   "outputs": [
    {
     "name": "stdout",
     "output_type": "stream",
     "text": [
      "(6, 3)\n",
      "(6, 312)\n"
     ]
    }
   ],
   "source": [
    "smol_data = dataset.dropna()\n",
    "y = smol_data['CareerSatisfaction']\n",
    "X = smol_data.drop('CareerSatisfaction', axis=1)\n",
    "\n",
    "y = pd.get_dummies(y)\n",
    "X = pd.get_dummies(X)\n",
    "print(y.shape)\n",
    "print(X.shape)"
   ]
  },
  {
   "cell_type": "code",
   "execution_count": 98,
   "metadata": {},
   "outputs": [],
   "source": [
    "import pandas as pd\n",
    "from sklearn.ensemble import RandomForestClassifier\n",
    "from sklearn.feature_selection import SelectFromModel\n",
    "from sklearn.model_selection import train_test_split"
   ]
  },
  {
   "cell_type": "code",
   "execution_count": 99,
   "metadata": {},
   "outputs": [],
   "source": [
    " X_train, X_test, y_train, y_test = train_test_split(X, y, test_size=0.3)"
   ]
  },
  {
   "cell_type": "code",
   "execution_count": 100,
   "metadata": {},
   "outputs": [
    {
     "name": "stdout",
     "output_type": "stream",
     "text": [
      "   Respondent  Hobby  OpenSource  Country  Student  Employment  \\\n",
      "0        True   True        True     True     True        True   \n",
      "1        True   True        True     True     True        True   \n",
      "2        True   True        True     True     True        True   \n",
      "3        True   True        True     True     True        True   \n",
      "4        True   True        True     True     True        True   \n",
      "\n",
      "   FormalEducation  UndergradMajor  CompanySize  DevType  ...  Exercise  \\\n",
      "0             True            True         True     True  ...      True   \n",
      "1             True            True         True     True  ...      True   \n",
      "2             True            True         True     True  ...     False   \n",
      "3             True            True         True     True  ...      True   \n",
      "4             True            True         True     True  ...      True   \n",
      "\n",
      "   Gender  SexualOrientation  EducationParents  RaceEthnicity    Age  \\\n",
      "0    True               True              True           True   True   \n",
      "1    True               True              True           True   True   \n",
      "2   False              False             False          False  False   \n",
      "3    True               True              True           True   True   \n",
      "4    True               True              True           True   True   \n",
      "\n",
      "   Dependents  MilitaryUS  SurveyTooLong  SurveyEasy  \n",
      "0        True       False           True        True  \n",
      "1        True       False           True        True  \n",
      "2       False       False          False       False  \n",
      "3        True        True           True        True  \n",
      "4        True       False           True        True  \n",
      "\n",
      "[5 rows x 128 columns]\n"
     ]
    }
   ],
   "source": [
    "# print(X.sum(axis=1))\n",
    "# print(X[X.sum(axis=1) == 1])\n",
    "print(X.head())"
   ]
  },
  {
   "cell_type": "code",
   "execution_count": 94,
   "metadata": {},
   "outputs": [
    {
     "name": "stderr",
     "output_type": "stream",
     "text": [
      "c:\\users\\lewys\\miniconda3\\envs\\mlfinal\\lib\\site-packages\\sklearn\\feature_selection\\from_model.py:197: DataConversionWarning: A column-vector y was passed when a 1d array was expected. Please change the shape of y to (n_samples,), for example using ravel().\n",
      "  self.estimator_.fit(X, y, **fit_params)\n"
     ]
    },
    {
     "data": {
      "text/plain": [
       "SelectFromModel(estimator=RandomForestClassifier(bootstrap=True, class_weight=None, criterion='gini',\n",
       "            max_depth=None, max_features='auto', max_leaf_nodes=None,\n",
       "            min_impurity_decrease=0.0, min_impurity_split=None,\n",
       "            min_samples_leaf=1, min_samples_split=2,\n",
       "            min_weight_fraction_leaf=0.0, n_estimators=100, n_jobs=None,\n",
       "            oob_score=False, random_state=None, verbose=0,\n",
       "            warm_start=False),\n",
       "        max_features=None, norm_order=1, prefit=False, threshold=None)"
      ]
     },
     "execution_count": 94,
     "metadata": {},
     "output_type": "execute_result"
    }
   ],
   "source": [
    "sel = SelectFromModel(RandomForestClassifier(n_estimators=100))\n",
    "sel.fit(X_train, y_train)"
   ]
  },
  {
   "cell_type": "code",
   "execution_count": null,
   "metadata": {},
   "outputs": [],
   "source": []
  }
 ],
 "metadata": {
  "kernelspec": {
   "display_name": "Python 3",
   "language": "python",
   "name": "python3"
  },
  "language_info": {
   "codemirror_mode": {
    "name": "ipython",
    "version": 3
   },
   "file_extension": ".py",
   "mimetype": "text/x-python",
   "name": "python",
   "nbconvert_exporter": "python",
   "pygments_lexer": "ipython3",
   "version": "3.7.3"
  }
 },
 "nbformat": 4,
 "nbformat_minor": 1
}
